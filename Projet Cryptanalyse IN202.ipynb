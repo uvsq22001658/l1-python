{
 "cells": [
  {
   "cell_type": "markdown",
   "metadata": {},
   "source": [
    "# Cryptanalyse\n",
    "\n",
    "Votre mission, si vous l'acceptez, est de déchiffrer 4 textes de difficulté croissante en vous aidant d'un programme python que vous allez écrire.\n",
    "\n",
    "\n",
    "- Les fichiers ont été cryptés avec des méthodes données en cours.\n",
    "- Les fichiers chiffrés contiennent des textes en ASCII. Une fois déchiffrés ils vous donneront des informations.\n",
    "- Vous devez vous baser sur les fréquences d'apparition des lettres en français (et des paires de lettres) pour casser les codes. Faire une fonction de calcul pour vous aider.\n",
    "- Penser à réutliser le code du td de cryptographie comme base de travail.\n",
    "- Le code de votre programme doit être sur github et vous fournirez un lien vers votre projet github avec le code et le résultat du décodage\n",
    "en le déposant sur Moodle avant le mercredi 12 mai.\n",
    "- Une soutenance sera organisée le 17 mai.\n",
    "\n",
    "\n"
   ]
  },
  {
   "cell_type": "code",
   "execution_count": 285,
   "metadata": {},
   "outputs": [],
   "source": [
    "def frequence(message_chiffre):\n",
    "    resultat = []\n",
    "    for c in message_chiffre:\n",
    "        if 97 <= ord(c) <= 122:\n",
    "            exist = True\n",
    "            for i in range(len(resultat)):\n",
    "                if resultat[i][0] == c:\n",
    "                    exist = False\n",
    "            if exist:\n",
    "                resultat.append([c, round(message_chiffre.count(c)/len(message_chiffre)*100, 2)])\n",
    "    return resultat\n",
    "\n",
    "\n",
    "def frequence2(message_chiffre):\n",
    "    resultat = []\n",
    "    for c in message_chiffre:\n",
    "        if 97 <= ord(c) <= 122:\n",
    "            exist = True\n",
    "            for i in range(len(resultat)):\n",
    "                if resultat[i][0] == c:\n",
    "                    exist = False\n",
    "                    resultat[i][1] += round(1/len(message_chiffre)*100, 2)\n",
    "            if exist:\n",
    "                resultat.append([c, round(1/len(message_chiffre)*100, 2)])\n",
    "    return resultat\n"
   ]
  },
  {
   "cell_type": "code",
   "execution_count": 318,
   "metadata": {},
   "outputs": [
    {
     "output_type": "execute_result",
     "data": {
      "text/plain": [
       "[['d', 7.14],\n",
       " ['c', 7.74],\n",
       " ['e', 4.17],\n",
       " ['u', 2.98],\n",
       " ['q', 2.98],\n",
       " ['n', 1.79],\n",
       " ['h', 5.36],\n",
       " ['f', 2.38],\n",
       " ['p', 4.76],\n",
       " ['g', 4.76],\n",
       " ['k', 1.79],\n",
       " ['y', 4.17],\n",
       " ['w', 4.76],\n",
       " ['i', 4.76],\n",
       " ['t', 3.57],\n",
       " ['m', 1.79],\n",
       " ['z', 3.57],\n",
       " ['x', 2.38],\n",
       " ['j', 0.6],\n",
       " ['v', 1.19],\n",
       " ['s', 1.79],\n",
       " ['r', 1.19],\n",
       " ['b', 0.6],\n",
       " ['l', 0.6]]"
      ]
     },
     "metadata": {},
     "execution_count": 318
    }
   ],
   "source": [
    "frequence(\"dceuq e n'ehfp cg p'kyhhep uqfw cgiy citudm c gzudiq ni ezhd px c jhptv ep cggsht. kg hdtymdt xdzei gdx rzyq wir mvzxpw, cifcchdb znwd ccyw wy lkcsht, dp isgd uqfw wy ?\")"
   ]
  },
  {
   "cell_type": "code",
   "execution_count": 287,
   "metadata": {},
   "outputs": [],
   "source": [
    "def rang(lettre):\n",
    "    if 97 <= ord(lettre) <= 122:\n",
    "        return ord(lettre) - 97\n",
    "    else:\n",
    "        return 0"
   ]
  },
  {
   "cell_type": "code",
   "execution_count": 288,
   "metadata": {},
   "outputs": [],
   "source": [
    "def decalage(lettre_message, lettre_cle):\n",
    "    if 97 <= ord(lettre_message) <= 122:\n",
    "        return chr((rang(lettre_message) + rang(lettre_cle)) % 26 + 97)\n",
    "    else:\n",
    "        return lettre_message"
   ]
  },
  {
   "cell_type": "code",
   "execution_count": 289,
   "metadata": {},
   "outputs": [],
   "source": [
    "def dec_texte(texte,cle):\n",
    "    taille_cle = len(cle)\n",
    "    res = \"\"\n",
    "    for i in range(len(texte)):\n",
    "        res += decalage(texte[i], cle[i % taille_cle])\n",
    "    return res\n",
    "\n",
    "def chiffre():\n",
    "    resultat.delete(0,tk.END)\n",
    "    text = entree_texte.get()\n",
    "    cle = entree_cle.get()\n",
    "    if len(text)>0 and len(cle)>0:\n",
    "        res = dec_texte(text,cle)\n",
    "        resultat.insert(0,res)\n",
    "    else:\n",
    "        resultat.insert(0,\"Il manque quelque chose\")\n"
   ]
  },
  {
   "cell_type": "code",
   "execution_count": 290,
   "metadata": {},
   "outputs": [],
   "source": [
    "def dechiffrer(message_chiffre,cle):\n",
    "    taille_cle = len(cle)\n",
    "    res = \"\"\n",
    "    for i in range(len(message_chiffre)):\n",
    "        res += decalage(message_chiffre[i], chr(26 - rang(cle[i % taille_cle]) + 97))\n",
    "    return res\n",
    "\n",
    "\n",
    "def dechiffre():\n",
    "    label_dech.config(text = dechiffrer(resultat.get(), entree_cle.get()))"
   ]
  },
  {
   "cell_type": "code",
   "execution_count": 300,
   "metadata": {},
   "outputs": [
    {
     "output_type": "stream",
     "name": "stdout",
     "text": [
      "le prochain fichier est code par un mot de passe de taille inconnue et contient l'indice. les lettres du mot de passe permettent de decaler les lettres du message original modulo 26. seules les lettres de a a a sont chiffrees.\n"
     ]
    }
   ],
   "source": [
    "def substitution(message_chiffre):\n",
    "    nouveau_message = \"\"\n",
    "    for c in message_chiffre:\n",
    "        if c == \"x\": # \"x\" est le caractère le plus fréquent, on suppose qu'il s'agit du \"e\"\n",
    "            nouveau_message += \"e\"\n",
    "        elif c == \"g\": # \"g\" apparaît en début de petits mots suivis d'un \"e\", on suppose que c'est \"l\"\n",
    "            nouveau_message += \"l\"\n",
    "        elif c == \"i\": # \"i\" apparaît parfois en double, après \"le\" et en fin de mot, on suppose que c'est \"s\"\n",
    "            nouveau_message += \"s\"\n",
    "        elif c == \"u\": # on suppose que \"leuuoes\" est le mot \"lettres\", donc \"u\" est \"t\"\n",
    "            nouveau_message += \"t\"\n",
    "        elif c == \"o\": # on suppose que \"leuuoes\" est le mot \"lettres\", donc \"o\" est \"r\"\n",
    "            nouveau_message += \"r\"\n",
    "        elif c == \"y\": # on suppose que \"seyles\" est le mot \"seules\", donc \"y\" est \"u\"\n",
    "            nouveau_message += \"u\"\n",
    "        elif c == \"c\": # \"c\" apparaît souvent dans \"ce\" ou \"cu\" donc on suppose que \"c\" est \"d\"\n",
    "            nouveau_message += \"d\"\n",
    "        elif c == \"n\": # on suppose que \"les lettres de n n a\" est \"les lettres de a à ?\", donc \"n\" est \"a\"\n",
    "            nouveau_message += \"a\"\n",
    "        elif c == \"s\": # on suppose que \"ssdt\" est le mot \"sont\", donc \"s\" est \"o\"\n",
    "            nouveau_message += \"o\"\n",
    "        elif c == \"d\": # on suppose que \"ssdt\" est le mot \"sont\", donc \"d\" est \"n\"\n",
    "            nouveau_message += \"n\"\n",
    "        elif c == \"k\": # on suppose que \"taklle knvonnue\" est \"taille inconnue\", donc \"k\" est \"i\"\n",
    "            nouveau_message += \"i\"\n",
    "        elif c == \"v\": # on suppose que \"taklle knvonnue\" est \"taille inconnue\", donc \"v\" est \"c\"\n",
    "            nouveau_message += \"c\"\n",
    "        elif c == \"q\": # on suppose que \"qroclain wiclier\" est \"prochain fichier\", donc \"q\" est \"p\"\n",
    "            nouveau_message += \"p\"\n",
    "        elif c == \"w\": # on suppose que \"qroclain wiclier\" est \"prochain fichier\", donc \"w\" est \"f\"\n",
    "            nouveau_message += \"f\"\n",
    "        elif c == \"l\": # on suppose que \"qroclain wiclier\" est \"prochain fichier\", donc \"l\" est \"h\"\n",
    "            nouveau_message += \"h\"\n",
    "        elif c == \"f\": # on suppose que \"fot de passe\" est \"mot de passe\", donc \"f\" est \"m\"\n",
    "            nouveau_message += \"m\"\n",
    "        elif c == \"m\": # on suppose que \"messame oriminal\" est \"message original\", donc \"m\" est \"g\"\n",
    "            nouveau_message += \"g\"\n",
    "        else:\n",
    "            nouveau_message += c \n",
    "    return nouveau_message\n",
    "\n",
    "print(substitution(\"gx qosvlnkd wkvlkxo xiu vscx qno yd fsu cx qniix cx unkggx kdvsddyx xu vsdukxdu g'kdckvx. gxi gxuuoxi cy fsu cx qniix qxofxuuxdu cx cxvngxo gxi gxuuoxi cy fxiinmx sokmkdng fscygs 26. ixygxi gxi gxuuoxi cx n n a isdu vlkwwoxxi.\"))"
   ]
  },
  {
   "cell_type": "code",
   "execution_count": 324,
   "metadata": {},
   "outputs": [
    {
     "output_type": "execute_result",
     "data": {
      "text/plain": [
       "\"brapo a l'acde xe l'indcce pous avet reossi a cussel ce cody et a fcnir ce xevocr. fe dyrniyr tyxte est poul lem bruves, reaardyz vius xans un girocr, yn enes pous un ?\""
      ]
     },
     "metadata": {},
     "execution_count": 324
    }
   ],
   "source": [
    "dechiffrer(\"dceuq e n'ehfp cg p'kyhhep uqfw cgiy citudm c gzudiq ni ezhd px c jhptv ep cggsht. kg hdtymdt xdzei gdx rzyq wir mvzxpw, cifcchdb znwd ccyw wy lkcsht, dp isgd uqfw wy ?\",\"clef\")"
   ]
  },
  {
   "cell_type": "code",
   "execution_count": 323,
   "metadata": {},
   "outputs": [
    {
     "output_type": "execute_result",
     "data": {
      "text/plain": [
       "'le prochain fichier aura un code par substitution alphabetique: chaque lettre est remplacee par une autre. utiliser la frequence des lettres pour decoder le message.'"
      ]
     },
     "metadata": {},
     "execution_count": 323
    }
   ],
   "source": [
    "frequence(\"kd oqnbgzhm ehbghdq ztqz tm bncd ozq rtarshstshnm zkogzadshptd: bgzptd kdssqd drs qdlokzbdd ozq tmd ztsqd. tshkhrdq kz eqdptdmbd cdr kdssqdr ontq cdbncdq kd ldrrzfd.\")\n",
    "\n",
    "dechiffrer(\"kd oqnbgzhm ehbghdq ztqz tm bncd ozq rtarshstshnm zkogzadshptd: bgzptd kdssqd drs qdlokzbdd ozq tmd ztsqd. tshkhrdq kz eqdptdmbd cdr kdssqdr ontq cdbncdq kd ldrrzfd.\", \"z\")"
   ]
  },
  {
   "cell_type": "code",
   "execution_count": 292,
   "metadata": {},
   "outputs": [],
   "source": [
    "import tkinter as tk\n",
    "\n",
    "racine = tk.Tk()\n",
    "racine.title(\"Cryptographie\")\n",
    "\n",
    "entree_texte = tk.Entry(racine, width = 20, font = (\"helvetica\", \"20\"))\n",
    "entree_texte.grid(row = 0, column = 0)\n",
    "\n",
    "entree_cle = tk.Entry(racine, width = 20, font = (\"helvetica\", \"20\"))\n",
    "entree_cle.grid(row = 1, column = 0)\n",
    "\n",
    "label_texte = tk.Label(racine, font = (\"helvetica\", \"20\"), text = \"Entrer le message ici.\")\n",
    "label_texte.grid(row = 0, column = 1)\n",
    "\n",
    "label_cle = tk.Label(racine, font = (\"helvetica\", \"20\"), text = \"Entrer la clé ici.\")\n",
    "label_cle.grid(row = 1, column = 1)\n",
    "\n",
    "label_dech = tk.Label(racine, font = (\"helvetica\", \"8\"), text = \"Déchiffre ici\")\n",
    "label_dech.grid(row = 3, column = 1)\n",
    "\n",
    "bouton_coder = tk.Button(racine, text=\"Chiffrer texte\",fg=\"black\", width=15, command=chiffre)\n",
    "bouton_coder.grid(row=2, column=0)\n",
    "\n",
    "bouton_decoder = tk.Button(racine, text=\"Déchiffrer texte\",fg=\"black\",  width=15,command=dechiffre)\n",
    "bouton_decoder.grid(row=2, column=1)\n",
    "\n",
    "resultat = tk.Entry(racine, width = 20, font = (\"helvetica\", \"20\"))\n",
    "resultat.grid(row=3,column=0)\n",
    "\n",
    "\n",
    "racine.mainloop()"
   ]
  }
 ],
 "metadata": {
  "kernelspec": {
   "name": "python385jvsc74a57bd0af2f8c585f9866e23a4885692fe536f4adf94d2455d156dff21ae13af48087cb",
   "display_name": "Python 3.8.5 64-bit ('l1-python': conda)"
  },
  "language_info": {
   "codemirror_mode": {
    "name": "ipython",
    "version": 3
   },
   "file_extension": ".py",
   "mimetype": "text/x-python",
   "name": "python",
   "nbconvert_exporter": "python",
   "pygments_lexer": "ipython3",
   "version": "3.8.5"
  }
 },
 "nbformat": 4,
 "nbformat_minor": 2
}